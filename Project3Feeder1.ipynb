{
 "cells": [
  {
   "cell_type": "markdown",
   "id": "cf62c80a-9e91-4535-b3ad-a8f886dd6b4c",
   "metadata": {},
   "source": [
    "### County Health Data Subset\n",
    "## Step 1\n",
    "Import the pandas and numpy environments and name them using the following code: **import pandas as pd**, and **import numpy as np**. Providing the abbreviated titles makes inputting instructions faster."
   ]
  },
  {
   "cell_type": "code",
   "execution_count": 1,
   "id": "f0529bce-b6b4-44fa-967d-55cd040c948d",
   "metadata": {},
   "outputs": [],
   "source": [
    "import pandas as pd\n",
    "import numpy as np"
   ]
  },
  {
   "cell_type": "markdown",
   "id": "e9348d1e-f2c2-4417-9b9c-8516585ed386",
   "metadata": {},
   "source": [
    "## Step 2\n",
    "Now we want pandas to read our data file, allowing us to pull data from it. we will use the following code: **df=pd.read_csv(\"CountyHealthData_2014-2015.csv\")**. By doing this, we are defining the input \"df\" as we want pandas to read our .csv file."
   ]
  },
  {
   "cell_type": "code",
   "execution_count": 2,
   "id": "40e3ee28-a75f-4134-975c-37579b140b4d",
   "metadata": {},
   "outputs": [],
   "source": [
    "df=pd.read_csv(\"CountyHealthData_2014-2015.csv\")"
   ]
  },
  {
   "cell_type": "markdown",
   "id": "f2d4bcee-daaa-4a23-b626-662d03bb188b",
   "metadata": {},
   "source": [
    "## Step 3\n",
    "\n",
    "In order to pull the data allowing the comparison of excessive drinking to median household income in the United States, we will use the following code: **df[[\"State\",\"Year\",\"Excessive drinking\",\"Median household income\"]]**. We add state and year to allow a little more context, and the ability to see if there is a change from 2014-2015 results."
   ]
  },
  {
   "cell_type": "code",
   "execution_count": 29,
   "id": "b48753cb-8002-4b08-8d3c-78895561675f",
   "metadata": {},
   "outputs": [
    {
     "data": {
      "text/html": [
       "<div>\n",
       "<style scoped>\n",
       "    .dataframe tbody tr th:only-of-type {\n",
       "        vertical-align: middle;\n",
       "    }\n",
       "\n",
       "    .dataframe tbody tr th {\n",
       "        vertical-align: top;\n",
       "    }\n",
       "\n",
       "    .dataframe thead th {\n",
       "        text-align: right;\n",
       "    }\n",
       "</style>\n",
       "<table border=\"1\" class=\"dataframe\">\n",
       "  <thead>\n",
       "    <tr style=\"text-align: right;\">\n",
       "      <th></th>\n",
       "      <th>State</th>\n",
       "      <th>Year</th>\n",
       "      <th>Excessive drinking</th>\n",
       "      <th>Median household income</th>\n",
       "    </tr>\n",
       "  </thead>\n",
       "  <tbody>\n",
       "    <tr>\n",
       "      <th>0</th>\n",
       "      <td>AK</td>\n",
       "      <td>1/1/2014</td>\n",
       "      <td>0.266</td>\n",
       "      <td>69192</td>\n",
       "    </tr>\n",
       "    <tr>\n",
       "      <th>1</th>\n",
       "      <td>AK</td>\n",
       "      <td>1/1/2015</td>\n",
       "      <td>0.266</td>\n",
       "      <td>74088</td>\n",
       "    </tr>\n",
       "    <tr>\n",
       "      <th>2</th>\n",
       "      <td>AK</td>\n",
       "      <td>1/1/2014</td>\n",
       "      <td>0.185</td>\n",
       "      <td>71094</td>\n",
       "    </tr>\n",
       "    <tr>\n",
       "      <th>3</th>\n",
       "      <td>AK</td>\n",
       "      <td>1/1/2015</td>\n",
       "      <td>0.185</td>\n",
       "      <td>76362</td>\n",
       "    </tr>\n",
       "    <tr>\n",
       "      <th>4</th>\n",
       "      <td>AK</td>\n",
       "      <td>1/1/2014</td>\n",
       "      <td>0.171</td>\n",
       "      <td>41722</td>\n",
       "    </tr>\n",
       "    <tr>\n",
       "      <th>...</th>\n",
       "      <td>...</td>\n",
       "      <td>...</td>\n",
       "      <td>...</td>\n",
       "      <td>...</td>\n",
       "    </tr>\n",
       "    <tr>\n",
       "      <th>6104</th>\n",
       "      <td>WY</td>\n",
       "      <td>1/1/2015</td>\n",
       "      <td>0.137</td>\n",
       "      <td>60953</td>\n",
       "    </tr>\n",
       "    <tr>\n",
       "      <th>6105</th>\n",
       "      <td>WY</td>\n",
       "      <td>1/1/2014</td>\n",
       "      <td>0.099</td>\n",
       "      <td>49533</td>\n",
       "    </tr>\n",
       "    <tr>\n",
       "      <th>6106</th>\n",
       "      <td>WY</td>\n",
       "      <td>1/1/2015</td>\n",
       "      <td>0.099</td>\n",
       "      <td>50740</td>\n",
       "    </tr>\n",
       "    <tr>\n",
       "      <th>6107</th>\n",
       "      <td>WY</td>\n",
       "      <td>1/1/2014</td>\n",
       "      <td>0.170</td>\n",
       "      <td>53665</td>\n",
       "    </tr>\n",
       "    <tr>\n",
       "      <th>6108</th>\n",
       "      <td>WY</td>\n",
       "      <td>1/1/2015</td>\n",
       "      <td>0.170</td>\n",
       "      <td>59314</td>\n",
       "    </tr>\n",
       "  </tbody>\n",
       "</table>\n",
       "<p>6109 rows × 4 columns</p>\n",
       "</div>"
      ],
      "text/plain": [
       "     State      Year  Excessive drinking  Median household income\n",
       "0       AK  1/1/2014               0.266                    69192\n",
       "1       AK  1/1/2015               0.266                    74088\n",
       "2       AK  1/1/2014               0.185                    71094\n",
       "3       AK  1/1/2015               0.185                    76362\n",
       "4       AK  1/1/2014               0.171                    41722\n",
       "...    ...       ...                 ...                      ...\n",
       "6104    WY  1/1/2015               0.137                    60953\n",
       "6105    WY  1/1/2014               0.099                    49533\n",
       "6106    WY  1/1/2015               0.099                    50740\n",
       "6107    WY  1/1/2014               0.170                    53665\n",
       "6108    WY  1/1/2015               0.170                    59314\n",
       "\n",
       "[6109 rows x 4 columns]"
      ]
     },
     "execution_count": 29,
     "metadata": {},
     "output_type": "execute_result"
    }
   ],
   "source": [
    "df[[\"State\",\"Year\",\"Excessive drinking\",\"Median household income\"]]"
   ]
  },
  {
   "cell_type": "markdown",
   "id": "53ab18ac-d1c0-4446-b1fc-36d8dc035cf6",
   "metadata": {},
   "source": [
    "## Step 4\n",
    "\n",
    "Now we want to make this subset of data into its own table for export to .csv and ease of future recall. To do this, we will input the following code: **ED_to_MHI_subset=df[[\"State\",\"Year\",\"Excessive drinking\",\"Median household income\"]].copy()**."
   ]
  },
  {
   "cell_type": "code",
   "execution_count": 14,
   "id": "4dd9d3aa-04cb-481d-a765-eb0e0f3a8423",
   "metadata": {},
   "outputs": [],
   "source": [
    "ED_to_MHI_subset=df[[\"State\",\"Year\",\"Excessive drinking\",\"Median household income\"]].copy()"
   ]
  },
  {
   "cell_type": "markdown",
   "id": "8b21c21f-e25c-4a00-84b0-9a50cbffd3a0",
   "metadata": {},
   "source": [
    "## Step 5\n",
    "\n",
    "Lastly, we want to export the table as a .csv file. We will do this by using the following code: **ED_to_MHI_subset.to_csv(\"ED_to_MHI_subset.csv\",index=False)"
   ]
  },
  {
   "cell_type": "code",
   "execution_count": 17,
   "id": "0535a42a-5670-49a0-8500-d65fe0eae5a4",
   "metadata": {},
   "outputs": [],
   "source": [
    "ED_to_MHI_subset.to_csv(\"ExcessiveDrinking-MedianHHIncome.csv\",index=False)"
   ]
  }
 ],
 "metadata": {
  "kernelspec": {
   "display_name": "Python 3 (ipykernel)",
   "language": "python",
   "name": "python3"
  },
  "language_info": {
   "codemirror_mode": {
    "name": "ipython",
    "version": 3
   },
   "file_extension": ".py",
   "mimetype": "text/x-python",
   "name": "python",
   "nbconvert_exporter": "python",
   "pygments_lexer": "ipython3",
   "version": "3.9.13"
  }
 },
 "nbformat": 4,
 "nbformat_minor": 5
}
