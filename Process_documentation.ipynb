{
 "cells": [
  {
   "cell_type": "markdown",
   "id": "53ea6115-e357-4fd7-8b7f-b781ed2bbe53",
   "metadata": {},
   "source": [
    "## County Health Data Subset\n",
    "### Overview\n",
    "\n",
    "This is a five step process going from the initial environment imports to the exportation of a finished product.\n",
    "\n",
    "We will:\n",
    "1. import pandas and numpy\n",
    "2. create dataframe object\n",
    "3. create our subset\n",
    "4. make a copy of our subset\n",
    "5. Export the subset to .csv\n"
   ]
  },
  {
   "cell_type": "markdown",
   "id": "cf62c80a-9e91-4535-b3ad-a8f886dd6b4c",
   "metadata": {},
   "source": [
    "## Step 1\n",
    "Import the pandas and numpy environments and name them using the following code: `import pandas as pd`, and `import numpy as np`. Providing the abbreviated titles makes inputting instructions faster."
   ]
  },
  {
   "cell_type": "code",
   "execution_count": 49,
   "id": "f0529bce-b6b4-44fa-967d-55cd040c948d",
   "metadata": {},
   "outputs": [],
   "source": [
    "import pandas as pd\n",
    "import numpy as np"
   ]
  },
  {
   "cell_type": "markdown",
   "id": "e9348d1e-f2c2-4417-9b9c-8516585ed386",
   "metadata": {},
   "source": [
    "## Step 2\n",
    "Now we want pandas to create our dataframe object by reading in our data file, allowing us to pull from it.\n",
    "\n",
    "First, locate the master dataset called \"CountyHealthData_2014-2015.csv\" in the **data** folder on our github landing page, download and store it in the same folder you are working out of with your JupyterLab notebook.\n",
    "\n",
    "we will then use the following code: `df=pd.read_csv(\"CountyHealthData_2014-2015.csv\")`. \n",
    "\n",
    "By doing this, we are defining the input \"df\" as we want pandas to read our .csv file."
   ]
  },
  {
   "cell_type": "code",
   "execution_count": 50,
   "id": "40e3ee28-a75f-4134-975c-37579b140b4d",
   "metadata": {},
   "outputs": [],
   "source": [
    "df=pd.read_csv(\"CountyHealthData_2014-2015.csv\")"
   ]
  },
  {
   "cell_type": "markdown",
   "id": "f2d4bcee-daaa-4a23-b626-662d03bb188b",
   "metadata": {},
   "source": [
    "## Step 3\n",
    "\n",
    "In order to pull the data allowing the comparison of excessive drinking to median household income in North Carolina in 2014, we will use the following code: `df.loc[3244:3442,[\"State\",\"county\",\"Excessive drinking\",\"Median household income\"]][df[\"Year\"]==\"1/1/2014\"]`.\n",
    "\n",
    "* `.loc` allows us to select a range of cells by indicating the numerical value of the row, and as many columns as we like by name.\n",
    "* `[df[\"Year\"]==\"1/1/2014\"]` allows us to seperate the 2014 data from the 2015 data."
   ]
  },
  {
   "cell_type": "code",
   "execution_count": 54,
   "id": "b48753cb-8002-4b08-8d3c-78895561675f",
   "metadata": {},
   "outputs": [
    {
     "name": "stderr",
     "output_type": "stream",
     "text": [
      "C:\\Users\\danie\\AppData\\Local\\Temp\\ipykernel_18540\\1830047380.py:1: UserWarning: Boolean Series key will be reindexed to match DataFrame index.\n",
      "  df.loc[3244:3442,[\"State\",\"County\",\"Excessive drinking\",\"Median household income\"]][df[\"Year\"]==\"1/1/2014\"]\n"
     ]
    },
    {
     "data": {
      "text/html": [
       "<div>\n",
       "<style scoped>\n",
       "    .dataframe tbody tr th:only-of-type {\n",
       "        vertical-align: middle;\n",
       "    }\n",
       "\n",
       "    .dataframe tbody tr th {\n",
       "        vertical-align: top;\n",
       "    }\n",
       "\n",
       "    .dataframe thead th {\n",
       "        text-align: right;\n",
       "    }\n",
       "</style>\n",
       "<table border=\"1\" class=\"dataframe\">\n",
       "  <thead>\n",
       "    <tr style=\"text-align: right;\">\n",
       "      <th></th>\n",
       "      <th>State</th>\n",
       "      <th>County</th>\n",
       "      <th>Excessive drinking</th>\n",
       "      <th>Median household income</th>\n",
       "    </tr>\n",
       "  </thead>\n",
       "  <tbody>\n",
       "    <tr>\n",
       "      <th>3245</th>\n",
       "      <td>NC</td>\n",
       "      <td>Alexander County</td>\n",
       "      <td>0.119</td>\n",
       "      <td>39655</td>\n",
       "    </tr>\n",
       "    <tr>\n",
       "      <th>3247</th>\n",
       "      <td>NC</td>\n",
       "      <td>Alleghany County</td>\n",
       "      <td>0.165</td>\n",
       "      <td>34046</td>\n",
       "    </tr>\n",
       "    <tr>\n",
       "      <th>3249</th>\n",
       "      <td>NC</td>\n",
       "      <td>Anson County</td>\n",
       "      <td>NaN</td>\n",
       "      <td>32339</td>\n",
       "    </tr>\n",
       "    <tr>\n",
       "      <th>3251</th>\n",
       "      <td>NC</td>\n",
       "      <td>Ashe County</td>\n",
       "      <td>0.086</td>\n",
       "      <td>34080</td>\n",
       "    </tr>\n",
       "    <tr>\n",
       "      <th>3253</th>\n",
       "      <td>NC</td>\n",
       "      <td>Avery County</td>\n",
       "      <td>NaN</td>\n",
       "      <td>34727</td>\n",
       "    </tr>\n",
       "    <tr>\n",
       "      <th>...</th>\n",
       "      <td>...</td>\n",
       "      <td>...</td>\n",
       "      <td>...</td>\n",
       "      <td>...</td>\n",
       "    </tr>\n",
       "    <tr>\n",
       "      <th>3433</th>\n",
       "      <td>NC</td>\n",
       "      <td>Wayne County</td>\n",
       "      <td>0.099</td>\n",
       "      <td>38776</td>\n",
       "    </tr>\n",
       "    <tr>\n",
       "      <th>3435</th>\n",
       "      <td>NC</td>\n",
       "      <td>Wilkes County</td>\n",
       "      <td>0.086</td>\n",
       "      <td>35362</td>\n",
       "    </tr>\n",
       "    <tr>\n",
       "      <th>3437</th>\n",
       "      <td>NC</td>\n",
       "      <td>Wilson County</td>\n",
       "      <td>NaN</td>\n",
       "      <td>37440</td>\n",
       "    </tr>\n",
       "    <tr>\n",
       "      <th>3439</th>\n",
       "      <td>NC</td>\n",
       "      <td>Yadkin County</td>\n",
       "      <td>NaN</td>\n",
       "      <td>40012</td>\n",
       "    </tr>\n",
       "    <tr>\n",
       "      <th>3441</th>\n",
       "      <td>NC</td>\n",
       "      <td>Yancey County</td>\n",
       "      <td>0.062</td>\n",
       "      <td>36019</td>\n",
       "    </tr>\n",
       "  </tbody>\n",
       "</table>\n",
       "<p>99 rows × 4 columns</p>\n",
       "</div>"
      ],
      "text/plain": [
       "     State            County  Excessive drinking  Median household income\n",
       "3245    NC  Alexander County               0.119                    39655\n",
       "3247    NC  Alleghany County               0.165                    34046\n",
       "3249    NC      Anson County                 NaN                    32339\n",
       "3251    NC       Ashe County               0.086                    34080\n",
       "3253    NC      Avery County                 NaN                    34727\n",
       "...    ...               ...                 ...                      ...\n",
       "3433    NC      Wayne County               0.099                    38776\n",
       "3435    NC     Wilkes County               0.086                    35362\n",
       "3437    NC     Wilson County                 NaN                    37440\n",
       "3439    NC     Yadkin County                 NaN                    40012\n",
       "3441    NC     Yancey County               0.062                    36019\n",
       "\n",
       "[99 rows x 4 columns]"
      ]
     },
     "execution_count": 54,
     "metadata": {},
     "output_type": "execute_result"
    }
   ],
   "source": [
    "df.loc[3244:3442,[\"State\",\"County\",\"Excessive drinking\",\"Median household income\"]][df[\"Year\"]==\"1/1/2014\"]"
   ]
  },
  {
   "cell_type": "markdown",
   "id": "53ab18ac-d1c0-4446-b1fc-36d8dc035cf6",
   "metadata": {},
   "source": [
    "## Step 4\n",
    "\n",
    "Now we want to make this subset of data into its own table for export to .csv and ease of future recall. To do this, we will input the following code: `ED_to_MHI_subset=df.loc[3244:3442,[\"State\",\"County\",\"Excessive drinking\",\"Median household income\"]][df[\"Year\"]==\"1/1/2014\"].copy()`.\n",
    "* `.copy()` allows us to use the data subset again at a later time, without altering the original dataset."
   ]
  },
  {
   "cell_type": "code",
   "execution_count": 55,
   "id": "4dd9d3aa-04cb-481d-a765-eb0e0f3a8423",
   "metadata": {},
   "outputs": [
    {
     "name": "stderr",
     "output_type": "stream",
     "text": [
      "C:\\Users\\danie\\AppData\\Local\\Temp\\ipykernel_18540\\4107474711.py:1: UserWarning: Boolean Series key will be reindexed to match DataFrame index.\n",
      "  ED_to_MHI_subset=df.loc[3244:3442,[\"State\",\"County\",\"Excessive drinking\",\"Median household income\"]][df[\"Year\"]==\"1/1/2014\"].copy()\n"
     ]
    }
   ],
   "source": [
    "ED_to_MHI_subset=df.loc[3244:3442,[\"State\",\"County\",\"Excessive drinking\",\"Median household income\"]][df[\"Year\"]==\"1/1/2014\"].copy()"
   ]
  },
  {
   "cell_type": "markdown",
   "id": "8b21c21f-e25c-4a00-84b0-9a50cbffd3a0",
   "metadata": {},
   "source": [
    "## Step 5\n",
    "\n",
    "Lastly, we want to export the table as a .csv file. To do this we can use the method `.to_csv()`, adding the filename and extension within the parentheses at the end.\n",
    "\n",
    "By default, this .csv will include the row of indices that pandas created when we read the original file into our notebook using `.read_csv.`\n",
    "\n",
    "To eliminate these, we can add `index=false` to our statement, which tells it not bring in those index numbers.\n",
    "\n",
    "The code will look like this: `ED_to_MHI_subset.to_csv(\"ED_to_MHI_subset.csv\",index=False)`"
   ]
  },
  {
   "cell_type": "code",
   "execution_count": 53,
   "id": "0535a42a-5670-49a0-8500-d65fe0eae5a4",
   "metadata": {},
   "outputs": [],
   "source": [
    "ED_to_MHI_subset.to_csv(\"ExcessiveDrinking-MedianHHIncome.csv\",index=False)"
   ]
  },
  {
   "cell_type": "markdown",
   "id": "17510f46-aa40-44c7-a30c-7ecfdd9fe9e0",
   "metadata": {},
   "source": [
    "## Remarks\n",
    "\n",
    "Now that we have exported the data subset, we can use it for whatever means necessary. This could be as a stand alone table, or as data inputs to create graphics (see README.md file).\n",
    "\n",
    "I hope these instructions were helpful, best of luck!"
   ]
  },
  {
   "cell_type": "code",
   "execution_count": null,
   "id": "7dab1328-8a34-41a3-8a84-16a1902e4746",
   "metadata": {},
   "outputs": [],
   "source": []
  }
 ],
 "metadata": {
  "kernelspec": {
   "display_name": "Python 3 (ipykernel)",
   "language": "python",
   "name": "python3"
  },
  "language_info": {
   "codemirror_mode": {
    "name": "ipython",
    "version": 3
   },
   "file_extension": ".py",
   "mimetype": "text/x-python",
   "name": "python",
   "nbconvert_exporter": "python",
   "pygments_lexer": "ipython3",
   "version": "3.9.13"
  }
 },
 "nbformat": 4,
 "nbformat_minor": 5
}
